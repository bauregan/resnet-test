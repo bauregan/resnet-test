{
 "cells": [
  {
   "cell_type": "code",
   "execution_count": 13,
   "metadata": {},
   "outputs": [],
   "source": [
    "import boto3\n",
    "import json\n",
    "import cv2\n",
    "import numpy as np"
   ]
  },
  {
   "cell_type": "code",
   "execution_count": 14,
   "metadata": {},
   "outputs": [],
   "source": [
    "client = boto3.client('sagemaker-runtime')"
   ]
  },
  {
   "cell_type": "code",
   "execution_count": 22,
   "metadata": {},
   "outputs": [],
   "source": [
    "def image_file_to_tensor(path):\n",
    "    \"\"\"Reads an image file and coverts it to a tensor (ndarray). \n",
    "    \n",
    "    No resizing or cropping is done, so the image dimensions must match\n",
    "    the model input shape (224x224 for the resnet model).\n",
    "    \n",
    "    Args: \n",
    "        path (str): The file name or path to the image file.\n",
    "    \"\"\"\n",
    "    \n",
    "    image = cv2.imread(path)\n",
    "    image = cv2.cvtColor(image, cv2.COLOR_BGR2RGB)\n",
    "    image = np.asarray(image)\n",
    "    image = cv2.normalize(image.astype('float'), None, 0, 1, cv2.NORM_MINMAX)\n",
    "    image = np.expand_dims(image, axis=0)\n",
    "    return image\n",
    "\n",
    "def add_imagenet_labels(prediction_result):\n",
    "    \"\"\"Add imagenet class labels to the prediction result. The\n",
    "    prediction_result argument will be modified in place.\n",
    "    \"\"\"\n",
    "\n",
    "    # read the labels from a file\n",
    "    labels = []\n",
    "    with open('labels.txt', 'r') as f:\n",
    "        labels = [l.strip() for l in f]\n",
    "    \n",
    "    # add labels to the result dict\n",
    "    for pred in prediction_result['predictions']:\n",
    "        prediction_labels = [labels[x - 1] for x in pred['classes']]\n",
    "        pred['labels'] = prediction_labels\n",
    "\n",
    "        \n",
    "def print_probabilities_and_labels(labelled_result):\n",
    "    \"\"\"Print the labelled results.\"\n",
    "    \"\"\"\n",
    "        \n",
    "    for pred in labelled_result['predictions']:\n",
    "        for i in range(0, len(pred['labels'])):\n",
    "            print('{:1.7f} {}'.format(\n",
    "                pred['probabilities'][i],\n",
    "                pred['labels'][i],\n",
    "            ))\n",
    "        print()"
   ]
  },
  {
   "cell_type": "code",
   "execution_count": 23,
   "metadata": {},
   "outputs": [],
   "source": [
    "endpoint_name = 'tensorflow-inference-2020-06-19-15-40-58-015'\n",
    "kitten_image = image_file_to_tensor('kitten.jpg')\n",
    "payload = json.dumps(kitten_image.tolist())"
   ]
  },
  {
   "cell_type": "code",
   "execution_count": 24,
   "metadata": {},
   "outputs": [],
   "source": [
    "payload = json.dumps(kitten_image.tolist())"
   ]
  },
  {
   "cell_type": "code",
   "execution_count": 25,
   "metadata": {},
   "outputs": [
    {
     "name": "stdout",
     "output_type": "stream",
     "text": [
      "0.5246838 n02123045 tabby, tabby cat\n",
      "0.4617371 n02123159 tiger cat\n",
      "0.0133929 n02124075 Egyptian cat\n",
      "\n"
     ]
    }
   ],
   "source": [
    "response = client.invoke_endpoint(\n",
    "    EndpointName=endpoint_name,\n",
    "    Body=payload,\n",
    "    ContentType='application/json',\n",
    ")\n",
    "\n",
    "result = json.loads(response['Body'].read().decode())\n",
    "add_imagenet_labels(result)\n",
    "print_probabilities_and_labels(result)"
   ]
  },
  {
   "cell_type": "code",
   "execution_count": null,
   "metadata": {},
   "outputs": [],
   "source": []
  }
 ],
 "metadata": {
  "kernelspec": {
   "display_name": "conda_tensorflow2_p36",
   "language": "python",
   "name": "conda_tensorflow2_p36"
  },
  "language_info": {
   "codemirror_mode": {
    "name": "ipython",
    "version": 3
   },
   "file_extension": ".py",
   "mimetype": "text/x-python",
   "name": "python",
   "nbconvert_exporter": "python",
   "pygments_lexer": "ipython3",
   "version": "3.6.10"
  }
 },
 "nbformat": 4,
 "nbformat_minor": 4
}
